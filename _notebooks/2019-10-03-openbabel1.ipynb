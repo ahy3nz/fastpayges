{
 "cells": [
  {
   "cell_type": "markdown",
   "metadata": {},
   "source": [
    "# Molecular Modeling Software: Open Babel\n",
    "\n",
    "- toc: false\n",
    "- branch: master\n",
    "- badges: true\n",
    "- comments: false\n",
    "- categories: [molecular modeling, scientific computing, grad school]"
   ]
  },
  {
   "cell_type": "markdown",
   "metadata": {},
   "source": [
    "\"Open Babel is a chemical toolbox designed to speak the many languages of chemical data. It's an open, collaborative project allowing anyone to search, convert, analyze, or store data from molecular modeling, chemistry, solid-state materials, biochemistry, or related areas.\"\n",
    "* [Open Babel main page](http://openbabel.org/wiki/Main_Page)\n",
    "* [Open Babel overview documentation](http://openbabel.org/docs/current/index.html)\n",
    "* [Open Babel git repo](https://github.com/openbabel/openbabel)\n",
    "\n",
    "Open Babel is written in C++ and can be interacted with via the command line or C++ scripts, but I want to focus on the Python interface for Open Babel, `pybel`\n",
    "* [Pybel documentation](https://openbabel.org/docs/dev/UseTheLibrary/Python_Pybel.html)\n",
    "* [Pybel in the repo](https://github.com/openbabel/openbabel/blob/master/scripts/python/openbabel/pybel.py)\n",
    "\n",
    "Open Babel and pybel are available [on pip](https://pypi.org/project/openbabel/) and [conda](https://anaconda.org/openbabel/openbabel).\n",
    "\n",
    "There seems to be an [interesting history](https://openbabel.org/wiki/Frequently_Asked_Questions) in which there was first Babel, open-sourced by others into OpenBabel, but shares some history with OELib/OEChem from OpenEye.\n",
    "\n",
    "Given I'm Python-centric, I like to dabble with pybel to interface with openbabel, and see where openbabel functionality could be useful (maybe from a molecular modelling perspective)."
   ]
  },
  {
   "cell_type": "code",
   "execution_count": 1,
   "metadata": {},
   "outputs": [],
   "source": [
    "import openbabel\n",
    "import pybel"
   ]
  },
  {
   "cell_type": "markdown",
   "metadata": {},
   "source": [
    "For starters, pybel provides functionality to read smiles strings, with some convenient 2D visualization within Jupyter. This is propane ($C_3H_8$).\n",
    "\n",
    "Going further, openbabel [supports a wide range of fileformats](http://openbabel.org/docs/current/FileFormats/Overview.html)"
   ]
  },
  {
   "cell_type": "code",
   "execution_count": 2,
   "metadata": {},
   "outputs": [
    {
     "data": {
      "image/svg+xml": [
       "<svg xmlns=\"http://www.w3.org/2000/svg\" font-family=\"sans-serif\" height=\"100\" stroke=\"rgb(0,0,0)\" stroke-linecap=\"round\" stroke-width=\"2\" viewBox=\"0 0 149.282 100\" width=\"100\" x=\"0\" y=\"0\">\n",
       "<line stroke=\"rgb(0,0,0)\" stroke-width=\"2.0\" x1=\"98.0\" x2=\"74.6\" y1=\"53.5\" y2=\"40.0\" />\n",
       "<line stroke=\"rgb(0,0,0)\" stroke-width=\"2.0\" x1=\"74.6\" x2=\"51.3\" y1=\"40.0\" y2=\"53.5\" />\n",
       "<text fill=\"rgb(102,102,102)\" font-size=\"16\" stroke=\"rgb(102,102,102)\" stroke-width=\"1\" x=\"105.282032\" y=\"68.000000\">CH</text>\n",
       "<text fill=\"rgb(102,102,102)\" font-size=\"13\" stroke=\"rgb(102,102,102)\" stroke-width=\"1\" x=\"129.282032\" y=\"71.680000\">3</text>\n",
       "<text fill=\"rgb(102,102,102)\" font-size=\"16\" stroke=\"rgb(102,102,102)\" stroke-width=\"1\" x=\"14.000000\" y=\"68.000000\">H</text>\n",
       "<text fill=\"rgb(102,102,102)\" font-size=\"13\" stroke=\"rgb(102,102,102)\" stroke-width=\"1\" x=\"26.000000\" y=\"71.680000\">3</text>\n",
       "<text fill=\"rgb(102,102,102)\" font-size=\"16\" stroke=\"rgb(102,102,102)\" stroke-width=\"1\" x=\"32.500000\" y=\"68.000000\">C</text>\n",
       "</svg>\n"
      ],
      "text/plain": [
       "<pybel.Molecule at 0x10e9c6e10>"
      ]
     },
     "execution_count": 2,
     "metadata": {},
     "output_type": "execute_result"
    }
   ],
   "source": [
    "molecule = pybel.readstring(\"smi\", 'CCC')\n",
    "molecule"
   ]
  },
  {
   "cell_type": "code",
   "execution_count": 4,
   "metadata": {},
   "outputs": [
    {
     "data": {
      "text/plain": [
       "pybel.Molecule"
      ]
     },
     "execution_count": 4,
     "metadata": {},
     "output_type": "execute_result"
    }
   ],
   "source": [
    "type(molecule)"
   ]
  },
  {
   "cell_type": "markdown",
   "metadata": {},
   "source": [
    "Within this `pybel.Molecule` object, we can access various other data. \n",
    "Notably, we can access the underlying `openbabel.OBMol` object as defined in the C source code.\n",
    "This is handled using the SWIG package, and this is our route to utilizing\n",
    "openbabel functionality within python"
   ]
  },
  {
   "cell_type": "code",
   "execution_count": 3,
   "metadata": {},
   "outputs": [
    {
     "data": {
      "text/plain": [
       "<openbabel.OBMol; proxy of <Swig Object of type 'OpenBabel::OBMol *' at 0x10e33e840> >"
      ]
     },
     "execution_count": 3,
     "metadata": {},
     "output_type": "execute_result"
    }
   ],
   "source": [
    "molecule.OBMol"
   ]
  },
  {
   "cell_type": "markdown",
   "metadata": {},
   "source": [
    "The `openbabel.OBMol` object is immense, so I refer readers to [the API](http://openbabel.org/dev-api/classOpenBabel_1_1OBMol.shtml) for an exhaustive list of getters, setters, and other functions relevant to molecular modelling and cheminformatics.\n",
    "\n",
    "Openbabel ships with a variety of iterator objects to loop through various properties of `openbabel.OBMol` objects.\n",
    "Not as pythonic as trying to generators or enumeration, but it still works"
   ]
  },
  {
   "cell_type": "code",
   "execution_count": 5,
   "metadata": {},
   "outputs": [
    {
     "name": "stdout",
     "output_type": "stream",
     "text": [
      "0 C3 6\n",
      "1 C3 6\n",
      "2 C3 6\n"
     ]
    }
   ],
   "source": [
    "for atom in openbabel.OBMolAtomIter(molecule.OBMol):\n",
    "    print(atom.GetIndex(),atom.GetType(), atom.GetAtomicNum())"
   ]
  },
  {
   "cell_type": "markdown",
   "metadata": {},
   "source": [
    "Since we created `pybel.Molecule` out of a SMILES string, the hydrogens were implicit and ignored.\n",
    "To fully enumerate this compound, we can add hydrogens"
   ]
  },
  {
   "cell_type": "code",
   "execution_count": 7,
   "metadata": {},
   "outputs": [],
   "source": [
    "for atom in openbabel.OBMolAtomIter(molecule.OBMol):\n",
    "    molecule.OBMol.AddHydrogens(atom)"
   ]
  },
  {
   "cell_type": "code",
   "execution_count": 8,
   "metadata": {},
   "outputs": [
    {
     "data": {
      "image/svg+xml": [
       "<svg xmlns=\"http://www.w3.org/2000/svg\" font-family=\"sans-serif\" height=\"100\" stroke=\"rgb(0,0,0)\" stroke-linecap=\"round\" stroke-width=\"2\" viewBox=\"0 0 214.641 194.641\" width=\"100\" x=\"0\" y=\"0\">\n",
       "<line stroke=\"rgb(0,0,0)\" stroke-width=\"2.0\" x1=\"80.0\" x2=\"100.0\" y1=\"114.6\" y2=\"80.0\" />\n",
       "<line stroke=\"rgb(0,0,0)\" stroke-width=\"2.0\" x1=\"100.0\" x2=\"140.0\" y1=\"80.0\" y2=\"80.0\" />\n",
       "<line stroke=\"rgb(0,0,0)\" stroke-width=\"2.0\" x1=\"80.0\" x2=\"80.0\" y1=\"114.6\" y2=\"141.6\" />\n",
       "<line stroke=\"rgb(0,0,0)\" stroke-width=\"2.0\" x1=\"80.0\" x2=\"103.4\" y1=\"114.6\" y2=\"128.1\" />\n",
       "<line stroke=\"rgb(0,0,0)\" stroke-width=\"2.0\" x1=\"80.0\" x2=\"53.0\" y1=\"114.6\" y2=\"114.6\" />\n",
       "<line stroke=\"rgb(0,0,0)\" stroke-width=\"2.0\" x1=\"100.0\" x2=\"100.0\" y1=\"80.0\" y2=\"53.0\" />\n",
       "<line stroke=\"rgb(0,0,0)\" stroke-width=\"2.0\" x1=\"100.0\" x2=\"76.6\" y1=\"80.0\" y2=\"66.5\" />\n",
       "<line stroke=\"rgb(0,0,0)\" stroke-width=\"2.0\" x1=\"140.0\" x2=\"163.4\" y1=\"80.0\" y2=\"66.5\" />\n",
       "<line stroke=\"rgb(0,0,0)\" stroke-width=\"2.0\" x1=\"140.0\" x2=\"140.0\" y1=\"80.0\" y2=\"53.0\" />\n",
       "<line stroke=\"rgb(0,0,0)\" stroke-width=\"2.0\" x1=\"140.0\" x2=\"153.5\" y1=\"80.0\" y2=\"103.4\" />\n",
       "<text fill=\"rgb(191,191,191)\" font-size=\"16\" stroke=\"rgb(191,191,191)\" stroke-width=\"1\" x=\"74.000000\" y=\"162.641016\">H</text>\n",
       "<text fill=\"rgb(191,191,191)\" font-size=\"16\" stroke=\"rgb(191,191,191)\" stroke-width=\"1\" x=\"108.641016\" y=\"142.641016\">H</text>\n",
       "<text fill=\"rgb(191,191,191)\" font-size=\"16\" stroke=\"rgb(191,191,191)\" stroke-width=\"1\" x=\"34.000000\" y=\"122.641016\">H</text>\n",
       "<text fill=\"rgb(191,191,191)\" font-size=\"16\" stroke=\"rgb(191,191,191)\" stroke-width=\"1\" x=\"94.000000\" y=\"48.000000\">H</text>\n",
       "<text fill=\"rgb(191,191,191)\" font-size=\"16\" stroke=\"rgb(191,191,191)\" stroke-width=\"1\" x=\"59.358984\" y=\"68.000000\">H</text>\n",
       "<text fill=\"rgb(191,191,191)\" font-size=\"16\" stroke=\"rgb(191,191,191)\" stroke-width=\"1\" x=\"168.641016\" y=\"68.000000\">H</text>\n",
       "<text fill=\"rgb(191,191,191)\" font-size=\"16\" stroke=\"rgb(191,191,191)\" stroke-width=\"1\" x=\"134.000000\" y=\"48.000000\">H</text>\n",
       "<text fill=\"rgb(191,191,191)\" font-size=\"16\" stroke=\"rgb(191,191,191)\" stroke-width=\"1\" x=\"154.000000\" y=\"122.641016\">H</text>\n",
       "</svg>\n"
      ],
      "text/plain": [
       "<pybel.Molecule at 0x10e9c6e10>"
      ]
     },
     "execution_count": 8,
     "metadata": {},
     "output_type": "execute_result"
    }
   ],
   "source": [
    "molecule"
   ]
  },
  {
   "cell_type": "code",
   "execution_count": 9,
   "metadata": {},
   "outputs": [
    {
     "name": "stdout",
     "output_type": "stream",
     "text": [
      "0   C3  6   \n",
      "1   C3  6   \n",
      "2   C3  6   \n",
      "3   H   1   \n",
      "4   H   1   \n",
      "5   H   1   \n",
      "6   H   1   \n",
      "7   H   1   \n",
      "8   H   1   \n",
      "9   H   1   \n",
      "10  H   1   \n"
     ]
    }
   ],
   "source": [
    "for atom in openbabel.OBMolAtomIter(molecule.OBMol):\n",
    "    print(\"{:<4}{:<4}{:<4}\".format(atom.GetIndex(), atom.GetType(), atom.GetAtomicNum()))\n"
   ]
  },
  {
   "cell_type": "markdown",
   "metadata": {},
   "source": [
    "We can also iterate through the bonds in our `openbabel.Molecule` object, and even get an idea for the equilibrium bond length"
   ]
  },
  {
   "cell_type": "code",
   "execution_count": 10,
   "metadata": {},
   "outputs": [
    {
     "name": "stdout",
     "output_type": "stream",
     "text": [
      "0    1    1.52 \n",
      "1    2    1.52 \n",
      "0    3    1.07 \n",
      "0    4    1.07 \n",
      "0    5    1.07 \n",
      "1    6    1.07 \n",
      "1    7    1.07 \n",
      "2    8    1.07 \n",
      "2    9    1.07 \n",
      "2    10   1.07 \n"
     ]
    }
   ],
   "source": [
    "for bond in openbabel.OBMolBondIter(molecule.OBMol):\n",
    "    print(\"{:<5}{:<5}{:<5}\".format(\n",
    "        bond.GetBeginAtom().GetIndex(), bond.GetEndAtom().GetIndex(), \n",
    "        bond.GetEquibLength()))"
   ]
  },
  {
   "cell_type": "markdown",
   "metadata": {},
   "source": [
    "The angles"
   ]
  },
  {
   "cell_type": "code",
   "execution_count": 11,
   "metadata": {},
   "outputs": [
    {
     "name": "stdout",
     "output_type": "stream",
     "text": [
      "(0, 1, 3)\n",
      "(0, 1, 4)\n",
      "(0, 1, 5)\n",
      "(0, 3, 4)\n",
      "(0, 3, 5)\n",
      "(0, 4, 5)\n",
      "(1, 0, 2)\n",
      "(1, 0, 6)\n",
      "(1, 0, 7)\n",
      "(1, 2, 6)\n",
      "(1, 2, 7)\n",
      "(1, 6, 7)\n",
      "(2, 1, 8)\n",
      "(2, 1, 9)\n",
      "(2, 1, 10)\n",
      "(2, 8, 9)\n",
      "(2, 8, 10)\n",
      "(2, 9, 10)\n"
     ]
    }
   ],
   "source": [
    "molecule.OBMol.FindAngles()\n",
    "for angle in openbabel.OBMolAngleIter(molecule.OBMol):\n",
    "    print(angle)"
   ]
  },
  {
   "cell_type": "markdown",
   "metadata": {},
   "source": [
    "And the torsions (proper dihdrals, not improper)"
   ]
  },
  {
   "cell_type": "code",
   "execution_count": 12,
   "metadata": {},
   "outputs": [
    {
     "name": "stdout",
     "output_type": "stream",
     "text": [
      "(3, 0, 1, 2)\n",
      "(3, 0, 1, 6)\n",
      "(3, 0, 1, 7)\n",
      "(4, 0, 1, 2)\n",
      "(4, 0, 1, 6)\n",
      "(4, 0, 1, 7)\n",
      "(5, 0, 1, 2)\n",
      "(5, 0, 1, 6)\n",
      "(5, 0, 1, 7)\n",
      "(0, 1, 2, 8)\n",
      "(0, 1, 2, 9)\n",
      "(0, 1, 2, 10)\n",
      "(6, 1, 2, 8)\n",
      "(6, 1, 2, 9)\n",
      "(6, 1, 2, 10)\n",
      "(7, 1, 2, 8)\n",
      "(7, 1, 2, 9)\n",
      "(7, 1, 2, 10)\n"
     ]
    }
   ],
   "source": [
    "molecule.OBMol.FindTorsions()\n",
    "for dih in openbabel.OBMolTorsionIter(molecule.OBMol):\n",
    "    print(dih)"
   ]
  },
  {
   "cell_type": "markdown",
   "metadata": {},
   "source": [
    "## SMARTS matching within openbabel\n",
    "Every `openbabel.OBAtom` object has the function [MatchesSMARTS](http://openbabel.org/dev-api/classOpenBabel_1_1OBAtom.shtml#abfdefac42d3c895920f1f715f0d710a5).\n",
    "\n",
    "Without referring to much to my earlier Foyer post, SMARTS matching helps identify atoms within a system that fit a particular SMARTS pattern (chemistry and bonding)\n",
    "\n",
    "This next section will do some primitive atomtyping via SMARTS matching. \n",
    "\n",
    "To start, we'll create a dictionary that relates atomtypes to their SMARTS definition (a boiled-down version of the Foyer FFXML). "
   ]
  },
  {
   "cell_type": "code",
   "execution_count": 13,
   "metadata": {},
   "outputs": [],
   "source": [
    "smarts_definitions = {\n",
    "    'internal C':'[C;X4]([C])([C])([H])[H]',\n",
    "    'external C':'[C;X4]([C])([H])([H])[H]',\n",
    "    'external H':'[H][C;X4]',\n",
    "    'internal H':'[H]([C;X4]([C])([C]))',\n",
    "}"
   ]
  },
  {
   "cell_type": "markdown",
   "metadata": {},
   "source": [
    "Next, we will iterate through all of our atoms. For each atom, we will iterate through each of our SMARTS definitions to see if there is a match"
   ]
  },
  {
   "cell_type": "code",
   "execution_count": 14,
   "metadata": {},
   "outputs": [
    {
     "name": "stdout",
     "output_type": "stream",
     "text": [
      "Atom 0 is external C\n",
      "Atom 1 is internal C\n",
      "Atom 2 is external C\n",
      "Atom 3 is external H\n",
      "Atom 4 is external H\n",
      "Atom 5 is external H\n",
      "Atom 6 is external H\n",
      "Atom 6 is internal H\n",
      "Atom 7 is external H\n",
      "Atom 7 is internal H\n",
      "Atom 8 is external H\n",
      "Atom 9 is external H\n",
      "Atom 10 is external H\n"
     ]
    }
   ],
   "source": [
    "for atom in openbabel.OBMolAtomIter(molecule.OBMol):\n",
    "    matched = False\n",
    "    for label, smarts in smarts_definitions.items():\n",
    "        if atom.MatchesSMARTS(smarts):\n",
    "            print(\"Atom {} is {}\".format(atom.GetIndex(), label))\n",
    "            matched = True\n",
    "    if not matched:\n",
    "        print(\"Atom {} is unmatched\".format(atom.GetIndex()))"
   ]
  },
  {
   "cell_type": "markdown",
   "metadata": {},
   "source": [
    "It's also worth noting that the [SMARTS definitions in openbabel](https://openbabel.org/wiki/SMARTS) are slightly different from SMARTS in Foyer. This isn't so surprising since scientists are always devising their own takes on SMILES and SMARTS nowadays. \n",
    "Some other key differences:\n",
    "* Foyer can utilizes labels (when matching SMARTS patterns, we can also leverage the atoms for which we already know the atom type). The code above doesn't apply labels, nor would the SMARTS matching in openbabel know what to do with the labels. In this regard, it's helpful that Foyer has its own SMARTS matching engine\n",
    "* Foyer utilizes blacklists and whitelists to help identify multiple atom types while resolving to a singular atom type."
   ]
  },
  {
   "cell_type": "markdown",
   "metadata": {},
   "source": [
    "## Force fields \n",
    "Openbabel has some support for [molecular mechanics force fields](https://github.com/openbabel/openbabel/tree/master/src/forcefields) (GAFF, UFF, MMFF94, MM2, ghemical).\n",
    "\n",
    "Within Openbabel, these basic FFs can parametrize systems and also compute forces/energies.\n",
    "Some functional forms appear to include harmonic bonds, harmonic angles, periodic torsions, RB torsions, LJ nonbond interactions, harmonic impropers, and Coulombic interactions.\n",
    "These various computes are defined as classes within each FF, so it's a little different from OpenMM where there are broadly classes of different force objects for different FFs to utilizes when studying a system. \n",
    "For each force class's compute method, you pass the relevant parameters and measurables, and out pops the gradient or energy.\n",
    "\n",
    "From these force fields, you can generate conformers, perform energy mimization, and even run molecular dynamics (with constraints and cutoffs)"
   ]
  },
  {
   "cell_type": "markdown",
   "metadata": {},
   "source": [
    "## Summary\n",
    "Open babel is an extensive molecular modelling, cheminformatics, and bioinformatics package, and I'm sure many computational chemists/biologists would find something useful within this library. As the name \"Babel\" suggests, it's related to all the many various languages that split from one, original language. The Open babel library has a lot of functionality and API that a C++ or Python (or CLI) developer could utilize in their own work."
   ]
  }
 ],
 "metadata": {
  "kernelspec": {
   "display_name": "Python 3",
   "language": "python",
   "name": "python3"
  },
  "language_info": {
   "codemirror_mode": {
    "name": "ipython",
    "version": 3
   },
   "file_extension": ".py",
   "mimetype": "text/x-python",
   "name": "python",
   "nbconvert_exporter": "python",
   "pygments_lexer": "ipython3",
   "version": "3.6.7"
  }
 },
 "nbformat": 4,
 "nbformat_minor": 2
}
