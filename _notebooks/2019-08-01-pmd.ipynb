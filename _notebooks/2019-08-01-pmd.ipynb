{
 "cells": [
  {
   "cell_type": "markdown",
   "metadata": {},
   "source": [
    "# \"Molecular Modeling Software: ParmEd\"\n",
    "\n",
    "- toc: false\n",
    "- branch: master\n",
    "- badges: true\n",
    "- comments: false\n",
    "- categories: [grad school, molecular modeling, scientific computing]"
   ]
  },
  {
   "cell_type": "markdown",
   "metadata": {},
   "source": [
    "ParmEd is an [open-source python package](https://github.com/ParmEd/ParmEd) for molecular modelling applications. \n",
    "In the description: \"Cross-program parameter and topology file editor and molecular mechanical simulator engine.\"\n",
    "\n",
    "The description doesn't quite do this package justice - ParmEd provides a *data structure that represents a molecular model*. Atomic names, coordinates, bonding neighbors, and *ALL the interaction parameters you would use to model a chemical system and its underlying physics* (at a molecular mechanics level, not quantum).\n",
    "\n",
    "For a molecular modeller, this extremely important if we want to consistently and reliably build a model for a chemical system. Building these models ends up being a lot of bookkeeping (okay we'll use this value for the A-B bond but this other value for the A-B non-bonded interaction), which becomes exponentially laborious as the sorts of chemical systems diversify from hundreds of copies of the same type of atom and parameters, to thousands of copies of a dozen different types and hundreds of different parameters, to beyond.\n",
    "\n",
    "For a scientific software developer, this is a great package in its *object-oriented design, extensive documentation, use of unit tests, open-source nature, and active user community*; active user communities are hard in academia when everyone does everything slightly differently - if you can find a common ground that everyone will use and know, then you might hit a \"critical threshold\" for userbase that the open-source community may yield some incredible contributions.\n",
    "\n",
    "For both groups, this is a great package because it *facilitates interoperability between simulation engines/applications*. The world of molecular modelling has developed many simulation packages designed for a particular purpose, focused more on depth than breadth of application. *The algorithms and simulation implementations may differ, but the fundamental molecular model is the same.*"
   ]
  },
  {
   "cell_type": "markdown",
   "metadata": {},
   "source": [
    "## The interconversion and interoperability issue"
   ]
  },
  {
   "cell_type": "markdown",
   "metadata": {},
   "source": [
    "Here's a gripe within the simulation community: *everyone has a different file format*\n",
    "\n",
    "One simulation engine might write bond parameters as (bondtype, r0 in Angstrom, k in kcal/mol/A^2)\n",
    "\n",
    "1, 10, 200\n",
    "\n",
    "Another simulation engine might go with (atomtype1, atomtype2, k in kJ/mol/nm^2, r0 in nm)\n",
    "\n",
    "1, 2, 41840, 1\n",
    "\n",
    "For thousands of parameter lines similar to this, keeping track of units and proper syntax and overall formatting is a huge headache, and you'd think this sort of thing should be automated. \n",
    "\n",
    "Another example, to express a bond as a harmonic potential, there are 2 ways to write the function\n",
    "\n",
    "$V(r) = k * (r-r_0)^2$\n",
    "\n",
    "$V(r) = (1/2) * k * (r-r_0)^2$\n",
    "\n",
    "So your force constant, $k$, can be off by a factor 2 if you're not bookkeeping properly. \n",
    "\n",
    "In the grand scheme of interoperability, ParmEd processes these nuances between implementations upon translating to or from the `parmed.Structure` object\n",
    "\n",
    "Let's say there are N simulation engines. Converting between each engine could be as expensive as O($N^2$) convertes.\n",
    "You would have to read in engine A's file format and convert it to the proper format for engine B. And then you'd need one for A-C and B-C, etc.\n",
    "\n",
    "What if there were a middleman? Converting between each engine would be O($2N$). This middleman is `parmed.Structure`, this massive class that contains all these parameters and coordinates and everything you need in a molecular model. The conversion procedure would be A-`Structure`-B or C-`Structure`-B. \n",
    "\n",
    "If you can store your model information into the `parmed.Structure`, you just need to write a routine that\n",
    "parses through the `Structure` and spits the information out according to the engine. If you have the information\n",
    "stored in an engine's file format, you just need to write a routine that processes that information into `parmed.Structure`"
   ]
  },
  {
   "cell_type": "markdown",
   "metadata": {},
   "source": [
    "## Examining `pmd.Structure`"
   ]
  },
  {
   "cell_type": "markdown",
   "metadata": {},
   "source": [
    "One popular use-case of `parmed` involves reading files to get a `pmd.Structure`. It's fairly simple\n",
    "to go from some `GROMACS` files to `pmd.Structure`. In this case, we'll be looking at ethane (C2H8)"
   ]
  },
  {
   "cell_type": "code",
   "execution_count": 1,
   "metadata": {},
   "outputs": [
    {
     "data": {
      "text/plain": [
       "<GromacsTopologyFile 8 atoms; 1 residues; 7 bonds; PBC (orthogonal); parametrized>"
      ]
     },
     "execution_count": 1,
     "metadata": {},
     "output_type": "execute_result"
    }
   ],
   "source": [
    "import parmed as pmd\n",
    "my_struc = pmd.load_file('ethane_periodic.top', xyz='ethane_periodic.gro')\n",
    "my_struc"
   ]
  },
  {
   "cell_type": "markdown",
   "metadata": {},
   "source": [
    "In this one line, all the molecular model information about bond parameters, angle parameters, dihedral parameters,\n",
    "non-bonded parameters, etc. are all loaded in to `my_struc`.\n",
    "\n",
    "Now we can start digging through the various properties within `my_struc`\n",
    "\n",
    "`my_struc` is just a massive container for smaller containers that eventually hold numerical values. We can \n",
    "examine the bonds within `my_struc`"
   ]
  },
  {
   "cell_type": "code",
   "execution_count": 2,
   "metadata": {},
   "outputs": [
    {
     "name": "stdout",
     "output_type": "stream",
     "text": [
      "TrackedList([\n",
      "\t<Bond <Atom C [0]; In RES 0>--<Atom H [3]; In RES 0>; type=<BondType; k=340.000, req=1.090>>\n",
      "\t<Bond <Atom C [0]; In RES 0>--<Atom H [1]; In RES 0>; type=<BondType; k=340.000, req=1.090>>\n",
      "\t<Bond <Atom C [0]; In RES 0>--<Atom C [4]; In RES 0>; type=<BondType; k=268.000, req=1.529>>\n",
      "\t<Bond <Atom H [2]; In RES 0>--<Atom C [0]; In RES 0>; type=<BondType; k=340.000, req=1.090>>\n",
      "\t<Bond <Atom C [4]; In RES 0>--<Atom H [5]; In RES 0>; type=<BondType; k=340.000, req=1.090>>\n",
      "\t<Bond <Atom H [6]; In RES 0>--<Atom C [4]; In RES 0>; type=<BondType; k=340.000, req=1.090>>\n",
      "\t<Bond <Atom H [7]; In RES 0>--<Atom C [4]; In RES 0>; type=<BondType; k=340.000, req=1.090>>\n",
      "])\n"
     ]
    }
   ],
   "source": [
    "print(my_struc.bonds)"
   ]
  },
  {
   "cell_type": "markdown",
   "metadata": {},
   "source": [
    "The string representations of these bonds is pretty helpful at a glance.\n",
    "We can see the two atoms participating in the bond, and the nature of their interactions (bondtypes)\n",
    "There are two different bondtypes, one for C-C and another for C-H.\n",
    "\n",
    "Next, we can select out an individual bond and sift through the various information inside it"
   ]
  },
  {
   "cell_type": "code",
   "execution_count": 3,
   "metadata": {},
   "outputs": [
    {
     "name": "stdout",
     "output_type": "stream",
     "text": [
      "<Bond <Atom C [0]; In RES 0>--<Atom H [3]; In RES 0>; type=<BondType; k=340.000, req=1.090>>\n",
      "<BondType; k=340.000, req=1.090>\n",
      "339.99999999999994\n"
     ]
    }
   ],
   "source": [
    "print(my_struc.bonds[0])\n",
    "print(my_struc.bonds[0].type)\n",
    "print(my_struc.bonds[0].type.k)"
   ]
  },
  {
   "cell_type": "markdown",
   "metadata": {},
   "source": [
    "We can look at the atoms similarly - we'll get the coordinates of the first atom"
   ]
  },
  {
   "cell_type": "code",
   "execution_count": 4,
   "metadata": {},
   "outputs": [
    {
     "name": "stdout",
     "output_type": "stream",
     "text": [
      "<Atom C [0]; In RES 0>\n",
      "0.0 -1.4000000000000001 -0.0\n"
     ]
    }
   ],
   "source": [
    "print(my_struc.atoms[0])\n",
    "print(my_struc.atoms[0].xx, my_struc.atoms[0].xy, my_struc.atoms[0].xz)"
   ]
  },
  {
   "cell_type": "markdown",
   "metadata": {},
   "source": [
    "Before going forward, I want to introduce the term **atom type**, which describes the identity of an atom.\n",
    "\n",
    "If you had a system of just argon atoms, they are all chemically identical. There might be a bunch of argon atoms, but there would only be one atom type\n",
    "\n",
    "In a more complicated example, let's say you had a box of propane ![propane](/images/mm/propane_2d.png)"
   ]
  },
  {
   "cell_type": "markdown",
   "metadata": {},
   "source": [
    "Looking at the carbons, there might be 3 carbons, but 2 different atom types. The \"outside\" carbons (each with 3 hydrogens) moieties, are chemically different from the \"middle\" carbon (with 2 hydrogens).\n",
    "\n",
    "When you look at bonds, the external C-H bond might be chemically different from the inside C-H bond (they probably aren't very chemically different, but let's assume they are). As a result, while they are both C-H bonds, they will have different bond types. This sort of delination appears for angles (3 atoms bonded linearly) and dihedrals (4 atoms bonded together either linearly) and improper dihedrals (3 atoms bonded to a central atom). You might have a lot of bonds, but many fewer bond types"
   ]
  },
  {
   "cell_type": "markdown",
   "metadata": {},
   "source": [
    "Let's look deeper at the atoms within `my_struc`, the atom type"
   ]
  },
  {
   "cell_type": "code",
   "execution_count": 5,
   "metadata": {},
   "outputs": [
    {
     "name": "stdout",
     "output_type": "stream",
     "text": [
      "opls_135\n"
     ]
    }
   ],
   "source": [
    "print(my_struc.atoms[0].type)"
   ]
  },
  {
   "cell_type": "markdown",
   "metadata": {},
   "source": [
    "Not the most interesting or intuitive name, but it's still unique enough for differenting atom types"
   ]
  },
  {
   "cell_type": "markdown",
   "metadata": {},
   "source": [
    "Before we go further, I have to introduce another equation that models the **non-bonded interactions** in our system. For $N$ atoms, there are $N^2$ of these. And usually non-bonded interactions are broken into coulombic (think physics 2) interactions, but also your **dispersion forces** (which arise from temporary dipole interactions that may arise between two atoms). I will focus on the **dispersion forces** - most models for this force utilize the **Lennard-Jones** potential (though some people use Buckingham, Morse, Mie, etc).\n",
    "\n",
    "$V(r) = 4\\epsilon[(\\frac{\\sigma}{r})^{12} - (\\frac{\\sigma}{r})^6]$\n",
    "\n",
    "$\\sigma$ and $\\epsilon$ are parameters of the model, $r$ is the interatomic distance between the two atoms in question"
   ]
  },
  {
   "cell_type": "markdown",
   "metadata": {},
   "source": [
    "For the atom type `opls_135`, we can examine the associated sigma and epsilon parameters"
   ]
  },
  {
   "cell_type": "code",
   "execution_count": 6,
   "metadata": {},
   "outputs": [
    {
     "name": "stdout",
     "output_type": "stream",
     "text": [
      "35.0 0.066\n"
     ]
    }
   ],
   "source": [
    "print(my_struc.atoms[0].sigma, my_struc.atoms[0].epsilon)"
   ]
  },
  {
   "cell_type": "markdown",
   "metadata": {},
   "source": [
    "For fun, we can visualize this potential over distance"
   ]
  },
  {
   "cell_type": "code",
   "execution_count": 7,
   "metadata": {},
   "outputs": [
    {
     "data": {
      "text/plain": [
       "Text(0.5, 0, 'r, $\\\\AA$')"
      ]
     },
     "execution_count": 7,
     "metadata": {},
     "output_type": "execute_result"
    },
    {
     "data": {
      "image/png": "[encoded data removed]",
      "text/plain": [
       "<Figure size 432x288 with 1 Axes>"
      ]
     },
     "metadata": {
      "needs_background": "light"
     },
     "output_type": "display_data"
    }
   ],
   "source": [
    "import matplotlib\n",
    "%matplotlib inline\n",
    "import matplotlib.pyplot as plt\n",
    "import numpy as np\n",
    "r = np.linspace(0.00001, 120, num=1000)\n",
    "v = 4 * my_struc.atoms[0].epsilon * ((my_struc.atoms[0].sigma/r)**12 - (my_struc.atoms[0].sigma/r)**6)\n",
    "fig, ax = plt.subplots(1,1)\n",
    "ax.plot(r, v)\n",
    "ax.set_ylim([-0.1,0.1])\n",
    "ax.set_ylabel(\"V(r), kcal/mol\")\n",
    "ax.set_xlabel(\"r, $\\AA$\")"
   ]
  },
  {
   "cell_type": "markdown",
   "metadata": {},
   "source": [
    "That is an introduction to the `pmd.Structure` - it is a MASSIVE container for all things related to a molecular model. This works well for molecular models with a lot of things in common. Now we will tackle the components of a molecular model are different."
   ]
  },
  {
   "cell_type": "markdown",
   "metadata": {},
   "source": [
    "## Dihedrals"
   ]
  },
  {
   "cell_type": "markdown",
   "metadata": {},
   "source": [
    "A dihedral refers to the interaction between 4 linearly connected atoms. This isn't exactly chemistry, but rather an approximation to chemistry and things like steric interactions (think Neumann projections back from organic chemistry).\n",
    "\n",
    "There a variety of ways to model this interaction. For example:\n",
    "\n",
    "* Periodic torsions ![periodic](/images/mm/periodic_torsion.png)\n",
    "\n",
    "* Ryckaert-Bellemans (RB) torsions ![rbtorsion](/images/mm/rb_torsion.png)\n",
    "\n",
    "They are both trigonometric series, but there's not much commonality between them - there's not a simple underlying set of parameters/function between the two that you can easily relate. You'd have to generate some energies for one function, and then numerically fit the other. Since there's no easy way for one function/set of parameters to express both of these functions, we have to handle them separately within `pmd.Structure`"
   ]
  },
  {
   "cell_type": "code",
   "execution_count": 8,
   "metadata": {},
   "outputs": [],
   "source": [
    "periodic_torsions = pmd.load_file('ethane_periodic.top', xyz='ethane_periodic.gro')\n",
    "rb = pmd.load_file('ethane_rbtorsion.top', xyz='ethane_rbtorsion.gro')"
   ]
  },
  {
   "cell_type": "markdown",
   "metadata": {},
   "source": [
    "`periodic_torsions` is a molecular model for ethane using periodic torsions. `rb` is a molecular model for ethane using RB torsions."
   ]
  },
  {
   "cell_type": "markdown",
   "metadata": {},
   "source": [
    "All the different interaction models/classes are found in [parmed/topologyobjects.py](https://github.com/ParmEd/ParmEd/blob/master/parmed/topologyobjects.py)\n",
    "\n",
    "But some dihedral bookkeeping in ParmEd: periodic torsions are stored in `structure.dihedrals` while RBtorsions are stored in `structure.rb_torsions`. Handling improper dihedrals is a bigger mess, but I want to emphasize how ParmEd handles these different functional forms: they are kept as separate objects and handled separately.\n",
    "\n",
    "The next two snippets will look at periodic torsions within `rb` and `periodic_torsions` (or lack thereof)"
   ]
  },
  {
   "cell_type": "code",
   "execution_count": 12,
   "metadata": {},
   "outputs": [
    {
     "data": {
      "text/plain": [
       "TrackedList([\n",
       "\t<Dihedral; <Atom H [1]; In RES 0>--<Atom C [0]; In RES 0>--<Atom C [4]; In RES 0>--<Atom H [5]; In RES 0>; type=<DihedralType; phi_k=0.741, per=1, phase=179.909,  scee=2.000, scnb=1.000>>\n",
       "\t<Dihedral; <Atom H [1]; In RES 0>--<Atom C [0]; In RES 0>--<Atom C [4]; In RES 0>--<Atom H [6]; In RES 0>; type=<DihedralType; phi_k=0.741, per=1, phase=179.909,  scee=2.000, scnb=1.000>>\n",
       "\t<Dihedral; <Atom H [1]; In RES 0>--<Atom C [0]; In RES 0>--<Atom C [4]; In RES 0>--<Atom H [7]; In RES 0>; type=<DihedralType; phi_k=0.741, per=1, phase=179.909,  scee=2.000, scnb=1.000>>\n",
       "\t<Dihedral; <Atom H [2]; In RES 0>--<Atom C [0]; In RES 0>--<Atom C [4]; In RES 0>--<Atom H [5]; In RES 0>; type=<DihedralType; phi_k=0.741, per=1, phase=179.909,  scee=2.000, scnb=1.000>>\n",
       "\t<Dihedral; <Atom H [2]; In RES 0>--<Atom C [0]; In RES 0>--<Atom C [4]; In RES 0>--<Atom H [6]; In RES 0>; type=<DihedralType; phi_k=0.741, per=1, phase=179.909,  scee=2.000, scnb=1.000>>\n",
       "\t<Dihedral; <Atom H [2]; In RES 0>--<Atom C [0]; In RES 0>--<Atom C [4]; In RES 0>--<Atom H [7]; In RES 0>; type=<DihedralType; phi_k=0.741, per=1, phase=179.909,  scee=2.000, scnb=1.000>>\n",
       "\t<Dihedral; <Atom H [3]; In RES 0>--<Atom C [0]; In RES 0>--<Atom C [4]; In RES 0>--<Atom H [5]; In RES 0>; type=<DihedralType; phi_k=0.741, per=1, phase=179.909,  scee=2.000, scnb=1.000>>\n",
       "\t<Dihedral; <Atom H [3]; In RES 0>--<Atom C [0]; In RES 0>--<Atom C [4]; In RES 0>--<Atom H [6]; In RES 0>; type=<DihedralType; phi_k=0.741, per=1, phase=179.909,  scee=2.000, scnb=1.000>>\n",
       "\t<Dihedral; <Atom H [3]; In RES 0>--<Atom C [0]; In RES 0>--<Atom C [4]; In RES 0>--<Atom H [7]; In RES 0>; type=<DihedralType; phi_k=0.741, per=1, phase=179.909,  scee=2.000, scnb=1.000>>\n",
       "])"
      ]
     },
     "execution_count": 12,
     "metadata": {},
     "output_type": "execute_result"
    }
   ],
   "source": [
    "periodic_torsions.dihedrals"
   ]
  },
  {
   "cell_type": "code",
   "execution_count": 13,
   "metadata": {},
   "outputs": [
    {
     "data": {
      "text/plain": [
       "TrackedList([\n",
       "])"
      ]
     },
     "execution_count": 13,
     "metadata": {},
     "output_type": "execute_result"
    }
   ],
   "source": [
    "rb.dihedrals"
   ]
  },
  {
   "cell_type": "markdown",
   "metadata": {},
   "source": [
    "The next two snippets will look at RB torsions within `rb` and `periodic_torsions` (or lack thereof)"
   ]
  },
  {
   "cell_type": "code",
   "execution_count": 14,
   "metadata": {},
   "outputs": [
    {
     "data": {
      "text/plain": [
       "TrackedList([\n",
       "])"
      ]
     },
     "execution_count": 14,
     "metadata": {},
     "output_type": "execute_result"
    }
   ],
   "source": [
    "periodic_torsions.rb_torsions"
   ]
  },
  {
   "cell_type": "code",
   "execution_count": 15,
   "metadata": {},
   "outputs": [
    {
     "data": {
      "text/plain": [
       "TrackedList([\n",
       "\t<Dihedral; <Atom H [1]; In RES 0>--<Atom C [0]; In RES 0>--<Atom C [4]; In RES 0>--<Atom H [5]; In RES 0>; type=<RBTorsionType; c0=0.150; c1=0.450; c2=0.000; c3=-0.600; c4=0.000; c5=0.000; scee=2.0; scnb=1.0>>\n",
       "\t<Dihedral; <Atom H [1]; In RES 0>--<Atom C [0]; In RES 0>--<Atom C [4]; In RES 0>--<Atom H [6]; In RES 0>; type=<RBTorsionType; c0=0.150; c1=0.450; c2=0.000; c3=-0.600; c4=0.000; c5=0.000; scee=2.0; scnb=1.0>>\n",
       "\t<Dihedral; <Atom H [1]; In RES 0>--<Atom C [0]; In RES 0>--<Atom C [4]; In RES 0>--<Atom H [7]; In RES 0>; type=<RBTorsionType; c0=0.150; c1=0.450; c2=0.000; c3=-0.600; c4=0.000; c5=0.000; scee=2.0; scnb=1.0>>\n",
       "\t<Dihedral; <Atom H [2]; In RES 0>--<Atom C [0]; In RES 0>--<Atom C [4]; In RES 0>--<Atom H [5]; In RES 0>; type=<RBTorsionType; c0=0.150; c1=0.450; c2=0.000; c3=-0.600; c4=0.000; c5=0.000; scee=2.0; scnb=1.0>>\n",
       "\t<Dihedral; <Atom H [2]; In RES 0>--<Atom C [0]; In RES 0>--<Atom C [4]; In RES 0>--<Atom H [6]; In RES 0>; type=<RBTorsionType; c0=0.150; c1=0.450; c2=0.000; c3=-0.600; c4=0.000; c5=0.000; scee=2.0; scnb=1.0>>\n",
       "\t<Dihedral; <Atom H [2]; In RES 0>--<Atom C [0]; In RES 0>--<Atom C [4]; In RES 0>--<Atom H [7]; In RES 0>; type=<RBTorsionType; c0=0.150; c1=0.450; c2=0.000; c3=-0.600; c4=0.000; c5=0.000; scee=2.0; scnb=1.0>>\n",
       "\t<Dihedral; <Atom H [3]; In RES 0>--<Atom C [0]; In RES 0>--<Atom C [4]; In RES 0>--<Atom H [5]; In RES 0>; type=<RBTorsionType; c0=0.150; c1=0.450; c2=0.000; c3=-0.600; c4=0.000; c5=0.000; scee=2.0; scnb=1.0>>\n",
       "\t<Dihedral; <Atom H [3]; In RES 0>--<Atom C [0]; In RES 0>--<Atom C [4]; In RES 0>--<Atom H [6]; In RES 0>; type=<RBTorsionType; c0=0.150; c1=0.450; c2=0.000; c3=-0.600; c4=0.000; c5=0.000; scee=2.0; scnb=1.0>>\n",
       "\t<Dihedral; <Atom H [3]; In RES 0>--<Atom C [0]; In RES 0>--<Atom C [4]; In RES 0>--<Atom H [7]; In RES 0>; type=<RBTorsionType; c0=0.150; c1=0.450; c2=0.000; c3=-0.600; c4=0.000; c5=0.000; scee=2.0; scnb=1.0>>\n",
       "])"
      ]
     },
     "execution_count": 15,
     "metadata": {},
     "output_type": "execute_result"
    }
   ],
   "source": [
    "rb.rb_torsions"
   ]
  },
  {
   "cell_type": "markdown",
   "metadata": {},
   "source": [
    "In the `parmed.Structure` object, the different dihedral forms are held in different containers. Regardless, the parameters relevant to each dihedral object are still tracked"
   ]
  },
  {
   "cell_type": "markdown",
   "metadata": {},
   "source": [
    "# `parmed.Structure` conversion"
   ]
  },
  {
   "cell_type": "markdown",
   "metadata": {},
   "source": [
    "Many like to use `parmed` as the middleman to convert from one engine's file format to another engine's file format. In this notebook, we've been using `GROMACS` files to model ethane, and now we'll mess around with converting to files suitable for other engines."
   ]
  },
  {
   "cell_type": "code",
   "execution_count": 17,
   "metadata": {},
   "outputs": [],
   "source": [
    "my_struc = pmd.load_file('ethane_periodic.top', xyz='ethane_periodic.gro')\n",
    "my_struc.save('ethane_periodic.prmtop')\n",
    "my_struc.save('ethane_periodic.crd')"
   ]
  },
  {
   "cell_type": "markdown",
   "metadata": {},
   "source": [
    "Another molecular simulation engine, `AMBER`, specifies the molecular model in `prmtop` (parametrized topology) and `crd` (coordinate) files. I confess I haven't actually used `AMBER` (it's very popular), but `parmed` has made it incredibly easy for a `GROMACS`-user to switch over (and use functionality that `AMBER` might provide)"
   ]
  },
  {
   "cell_type": "code",
   "execution_count": 18,
   "metadata": {},
   "outputs": [
    {
     "name": "stdout",
     "output_type": "stream",
     "text": [
      "%VERSION  VERSION_STAMP = V0001.000  DATE = 08/01/19  17:37:44\r\n",
      "%FLAG TITLE\r\n",
      "%FORMAT(20a4)\r\n",
      "\r\n",
      "%FLAG POINTERS\r\n",
      "%FORMAT(10I8)\r\n",
      "       8       2       6       1      12       0       9       0       0       0\r\n",
      "      29       1       1       0       0       2       2       9       1       0\r\n",
      "       0       0       0       0       0       0       0       1       8       0\r\n",
      "       0\r\n"
     ]
    }
   ],
   "source": [
    "!head ethane_periodic.prmtop"
   ]
  },
  {
   "cell_type": "code",
   "execution_count": 19,
   "metadata": {},
   "outputs": [
    {
     "name": "stdout",
     "output_type": "stream",
     "text": [
      "* GENERATED BY PARMED (HTTPS://GITHUB.COM/PARMED/PARMED)\r\n",
      "*\r\n",
      "         8  EXT\r\n",
      "         1         1  RES       C               0.0000000000       -1.4000000000       -0.0000000000  SYS       0               0.0000000000\r\n",
      "         2         1  RES       H              -1.0700000000       -1.4000000000       -0.0000000000  SYS       0               0.0000000000\r\n",
      "         3         1  RES       H               0.3600000000       -2.1700000000        0.6500000000  SYS       0               0.0000000000\r\n",
      "         4         1  RES       H               0.3600000000       -1.5800000000       -0.9900000000  SYS       0               0.0000000000\r\n",
      "         5         1  RES       C               0.0000000000        0.0000000000        0.0000000000  SYS       0               0.0000000000\r\n",
      "         6         1  RES       H               1.0700000000        0.0000000000        0.0000000000  SYS       0               0.0000000000\r\n",
      "         7         1  RES       H              -0.3600000000        0.7700000000        0.6500000000  SYS       0               0.0000000000\r\n"
     ]
    }
   ],
   "source": [
    "!head ethane_periodic.crd"
   ]
  },
  {
   "cell_type": "markdown",
   "metadata": {},
   "source": [
    "What we did with `GROMACS` files to `pmd.Structure` to `AMBER` files involed an IOstep to read `GROMACS` files into an in-memory representation, then an IO step to write `AMBER` files from the in-memory representation. These 2 simulation engines require these files to perform a simulation - what about a simulation engine that doesn't require this IO step, and we can purely handle this all in-memory?\n",
    "\n",
    "`OpenMM` is another simulation engine rooted in CUDA and C++ with wrappers for python implementations. We can \"interface\" more tightly with the `OpenMM` codebase by doing all these molecular model conversions within python"
   ]
  },
  {
   "cell_type": "code",
   "execution_count": 22,
   "metadata": {},
   "outputs": [
    {
     "name": "stdout",
     "output_type": "stream",
     "text": [
      "<class 'simtk.openmm.openmm.System'>\n"
     ]
    },
    {
     "data": {
      "text/plain": [
       "<simtk.openmm.openmm.System; proxy of <Swig Object of type 'OpenMM::System *' at 0x110c0ef00> >"
      ]
     },
     "execution_count": 22,
     "metadata": {},
     "output_type": "execute_result"
    }
   ],
   "source": [
    "my_omm_system = my_struc.createSystem()\n",
    "print(type(my_omm_system))\n",
    "my_omm_system"
   ]
  },
  {
   "cell_type": "markdown",
   "metadata": {},
   "source": [
    "In that one line, we've converted `pmd.Structure` into `openmm.System`, which gets us very close to performing a simulation within `OpenMM` without writing out an input file. \n",
    "\n",
    "In my opinion, this adds some elegance to performing molecular simulations in that they can be well-encompassed in a python script (and not a python script that just wraps a bunch of shell commands)"
   ]
  },
  {
   "cell_type": "markdown",
   "metadata": {},
   "source": [
    "## Does this relate to other fields of technology?\n",
    "Are there other applications of STEM where objects/entities need to be able to convert, communicate, or inter-operate between one another? ParmEd is a nice intermediate that allows different simulation engines to communicate information.\n",
    "\n",
    "I recently set up a Google Home Mini in my apartment - how does the Google product know how to turn off all the different smart bulbs out there (Philips, Element, Sengled, Wyze, FluxSmart)? I'm sure there are engineers who have to work on this GoogleHome-bulb interoperability to make sure a command to Google Home will perform an action to another device. \n",
    "\n",
    "What about parallel computing? The MPI standard defines routines and protocols to which any MPI library must adhere (OpenMPI, MPICH, etc). This defines a common ground so that an external program can call the same MPI functions and expect the same operation, but under the hood it's a different MPI library performing the gather/recieve commands."
   ]
  },
  {
   "cell_type": "markdown",
   "metadata": {},
   "source": [
    "# Summary\n",
    "ParmEd is a digital, in-memory data structure that represents a molecular model. It often serves an intermediary and great bookkeeper to facilitate translating molecular model (parameters, topology, coordinates) information from one simulation's file format (or data structure) to another simulation's file format (or data structure). It supports a variety of functional forms for the molecular modellers out there, and it is well-designed for the scientific software developers out there. Any molecular modeller knows how difficult and laborious this sort of package is, so the contributors to ParmEd deserve a big thank you."
   ]
  }
 ],
 "metadata": {
  "kernelspec": {
   "display_name": "Python 3",
   "language": "python",
   "name": "python3"
  },
  "language_info": {
   "codemirror_mode": {
    "name": "ipython",
    "version": 3
   },
   "file_extension": ".py",
   "mimetype": "text/x-python",
   "name": "python",
   "nbconvert_exporter": "python",
   "pygments_lexer": "ipython3",
   "version": "3.6.7"
  }
 },
 "nbformat": 4,
 "nbformat_minor": 2
}
