{
 "cells": [
  {
   "cell_type": "markdown",
   "metadata": {},
   "source": [
    "# Analyzing Simulation Trajectories\n",
    "\n",
    "- toc: false\n",
    "- branch: master\n",
    "- badges: true\n",
    "- comments: false\n",
    "- categories: [grad school, molecular modeling, scientific computing]"
   ]
  },
  {
   "cell_type": "markdown",
   "metadata": {},
   "source": [
    "Let's say you've conducted a simulation. \n",
    "Everything up to that point (parametrization, initialization, actually running the simulation) will be assumed\n",
    "and probably discussed another day.\n",
    "What you have from a simulation is a **trajectory** (*timeseries of coordinates*), and now we have to derive some \n",
    "meaningful properties from this trajectory."
   ]
  },
  {
   "cell_type": "markdown",
   "metadata": {},
   "source": [
    "Many meaningful properties can be derived from these coordinates, be it how atomic coordinates are related to each other, the sorts of geometries or larger structures we see, or how these coordinates are correlated over time.\n",
    "Whatever it is you're interested in, it all starts with the coordinates"
   ]
  },
  {
   "cell_type": "markdown",
   "metadata": {},
   "source": [
    "There are many analysis packages:\n",
    "* [**MDTraj**] (http://mdtraj.org/1.9.3/)\n",
    "* [**MDAnalysis**] (https://www.mdanalysis.org/docs/)\n",
    "* [**Freud**] (https://freud.readthedocs.io/en/stable/)\n",
    "* [**Pytraj**] (https://amber-md.github.io/pytraj/latest/index.html)\n",
    "* [**Cpptraj**] (https://amber-md.github.io/cpptraj/CPPTRAJ.xhtml)\n",
    "* and many, many others (this is what happens when a open-source software goes rampant with different desired functionality and starts from independent research groups)"
   ]
  },
  {
   "cell_type": "markdown",
   "metadata": {},
   "source": [
    "While each has a variety of different built-in/common analysis routines, some are more common \n",
    "(like radial distribution functions).\n",
    "What EVERY modeller will use, though, is the coordinates.\n",
    "The *most important* function in these analysis packages is the ability to turn \n",
    "a large trajectory file, written to disk, and read it into memory as a data structure whose XYZ coordinates we can access. \n",
    "\n",
    "Every simulation engine has different file formats and data encodings, but many of these analysis packages can support a wide range of file formats and pump out the same `Trajectory` data structure core to each package."
   ]
  },
  {
   "cell_type": "markdown",
   "metadata": {},
   "source": [
    "For example, we can use **MDtraj** to read in some simulation files from GROMACS.\n",
    "We obtain information about the XYZ coordinates and *molecular topology* \n",
    "(atoms, elements, atom names/types, residues, chemical bonding)\n",
    "\n",
    "In general, there's a sort of hierarchy/classification to groups of atoms. \n",
    "At the base, you have an *atom*, which is as it sounds, or a coarse-grained particle depending on your simulation.\n",
    "Groups of atoms can form a *chain*, which is pretty much just a bonded network of atoms.\n",
    "Groups of atoms and chains form a *residue*. This derives from protein amino acid residues, where each monomer was a residue. In other applications, this can also refer to a closed-loop bonded network of atoms (a singular molecule).\n",
    "All of these different entities/groupings form your *topology*"
   ]
  },
  {
   "cell_type": "code",
   "execution_count": 2,
   "metadata": {},
   "outputs": [
    {
     "data": {
      "text/plain": [
       "<mdtraj.Trajectory with 1501 frames, 18546 atoms, 2688 residues, and unitcells at 0x10dab9ba8>"
      ]
     },
     "execution_count": 2,
     "metadata": {},
     "output_type": "execute_result"
    }
   ],
   "source": [
    "import mdtraj\n",
    "traj = mdtraj.load('trajectory.xtc', top='em.gro')\n",
    "traj"
   ]
  },
  {
   "cell_type": "markdown",
   "metadata": {},
   "source": [
    "Most analysis packages have some way to access each *atom* in your topology"
   ]
  },
  {
   "cell_type": "code",
   "execution_count": 3,
   "metadata": {},
   "outputs": [
    {
     "data": {
      "text/plain": [
       "DSPC1-N"
      ]
     },
     "execution_count": 3,
     "metadata": {},
     "output_type": "execute_result"
    }
   ],
   "source": [
    "traj.topology.atom(0)"
   ]
  },
  {
   "cell_type": "markdown",
   "metadata": {},
   "source": [
    "If designed well, you can access *residue information* from each *atom*"
   ]
  },
  {
   "cell_type": "code",
   "execution_count": 4,
   "metadata": {},
   "outputs": [
    {
     "data": {
      "text/plain": [
       "DSPC1"
      ]
     },
     "execution_count": 4,
     "metadata": {},
     "output_type": "execute_result"
    }
   ],
   "source": [
    "traj.topology.atom(0).residue"
   ]
  },
  {
   "cell_type": "markdown",
   "metadata": {},
   "source": [
    "Or, you could acess each *residue* in your topology"
   ]
  },
  {
   "cell_type": "code",
   "execution_count": 5,
   "metadata": {},
   "outputs": [
    {
     "data": {
      "text/plain": [
       "DSPC1"
      ]
     },
     "execution_count": 5,
     "metadata": {},
     "output_type": "execute_result"
    }
   ],
   "source": [
    "traj.topology.residue(0)"
   ]
  },
  {
   "cell_type": "markdown",
   "metadata": {},
   "source": [
    "And then access each *atom* from within that *residue*"
   ]
  },
  {
   "cell_type": "code",
   "execution_count": 6,
   "metadata": {},
   "outputs": [
    {
     "data": {
      "text/plain": [
       "DSPC1-H13A"
      ]
     },
     "execution_count": 6,
     "metadata": {},
     "output_type": "execute_result"
    }
   ],
   "source": [
    "traj.topology.residue(0).atom(2)"
   ]
  },
  {
   "cell_type": "markdown",
   "metadata": {},
   "source": [
    "Every *atom* has an *index*, which is often used for accessing the different arrays"
   ]
  },
  {
   "cell_type": "code",
   "execution_count": 7,
   "metadata": {},
   "outputs": [
    {
     "data": {
      "text/plain": [
       "100"
      ]
     },
     "execution_count": 7,
     "metadata": {},
     "output_type": "execute_result"
    }
   ],
   "source": [
    "traj.topology.atom(100).index"
   ]
  },
  {
   "cell_type": "markdown",
   "metadata": {},
   "source": [
    "Some analysis packages also have an *atom-selection language*, which returns various atom indices"
   ]
  },
  {
   "cell_type": "code",
   "execution_count": 8,
   "metadata": {},
   "outputs": [
    {
     "data": {
      "text/plain": [
       "array([    0,   142,   284,   426,   568,   710,   852,   994,  1136,\n",
       "        1278,  1420,  1562,  1704,  1846,  1988,  2130,  2272,  2414,\n",
       "        2556,  2698,  2840,  9273,  9415,  9557,  9699,  9841,  9983,\n",
       "       10125, 10267, 10409, 10551, 10693, 10835, 10977, 11119, 11261,\n",
       "       11403, 11545, 11687, 11829, 11971, 12113])"
      ]
     },
     "execution_count": 8,
     "metadata": {},
     "output_type": "execute_result"
    }
   ],
   "source": [
    "traj.topology.select(\"element N\")"
   ]
  },
  {
   "cell_type": "markdown",
   "metadata": {},
   "source": [
    "Now we can get to the important numbers, the coordinates"
   ]
  },
  {
   "cell_type": "code",
   "execution_count": 9,
   "metadata": {},
   "outputs": [
    {
     "data": {
      "text/plain": [
       "array([[[3.75500011e+00, 2.16800022e+00, 6.84000015e+00],\n",
       "        [3.64100027e+00, 2.17200017e+00, 6.94400024e+00],\n",
       "        [3.68000007e+00, 2.21600008e+00, 7.03500032e+00],\n",
       "        ...,\n",
       "        [1.38600004e+00, 2.20000014e-01, 8.43700027e+00],\n",
       "        [1.31000006e+00, 2.01000005e-01, 8.49200058e+00],\n",
       "        [1.39500010e+00, 1.43000007e-01, 8.38100052e+00]],\n",
       "\n",
       "       [[3.92900014e+00, 2.18300009e+00, 6.83200026e+00],\n",
       "        [3.85500026e+00, 2.24800014e+00, 6.94500017e+00],\n",
       "        [3.92200017e+00, 2.28600001e+00, 7.02000046e+00],\n",
       "        ...,\n",
       "        [7.00000003e-02, 3.23000014e-01, 1.30000010e-01],\n",
       "        [6.00000005e-03, 3.45000029e-01, 6.30000010e-02],\n",
       "        [8.50000009e-02, 4.05000031e-01, 1.77000001e-01]],\n",
       "\n",
       "       [[3.79200029e+00, 2.13300014e+00, 6.90600014e+00],\n",
       "        [3.75500011e+00, 2.17000008e+00, 7.04500055e+00],\n",
       "        [3.69800019e+00, 2.26100016e+00, 7.03900051e+00],\n",
       "        ...,\n",
       "        [3.31000030e-01, 8.42000067e-01, 8.24400043e+00],\n",
       "        [2.39000008e-01, 8.64000022e-01, 8.26000023e+00],\n",
       "        [3.51000011e-01, 7.74000049e-01, 8.30900002e+00]],\n",
       "\n",
       "       ...,\n",
       "\n",
       "       [[5.35700035e+00, 3.21400023e+00, 6.66500044e+00],\n",
       "        [9.00000054e-03, 3.30200005e+00, 6.77700043e+00],\n",
       "        [5.32400036e+00, 3.37800026e+00, 6.80000019e+00],\n",
       "        ...,\n",
       "        [5.89000046e-01, 2.46400023e+00, 6.28700018e+00],\n",
       "        [5.42000055e-01, 2.38100004e+00, 6.27500010e+00],\n",
       "        [6.04000032e-01, 2.49500012e+00, 6.19800043e+00]],\n",
       "\n",
       "       [[9.20000076e-02, 3.15200019e+00, 7.07700014e+00],\n",
       "        [1.93000004e-01, 3.26800013e+00, 7.08700037e+00],\n",
       "        [1.33000001e-01, 3.35700011e+00, 7.09800053e+00],\n",
       "        ...,\n",
       "        [8.20000052e-01, 2.19400001e+00, 6.70000029e+00],\n",
       "        [8.31000030e-01, 2.10200000e+00, 6.67600012e+00],\n",
       "        [7.78000057e-01, 2.23400021e+00, 6.62400055e+00]],\n",
       "\n",
       "       [[1.24000005e-01, 2.99600005e+00, 6.71500015e+00],\n",
       "        [9.60000008e-02, 3.05700016e+00, 6.84500027e+00],\n",
       "        [4.00000019e-03, 3.11200023e+00, 6.83600044e+00],\n",
       "        ...,\n",
       "        [5.77000022e-01, 2.19900012e+00, 6.82900047e+00],\n",
       "        [6.62000060e-01, 2.23500013e+00, 6.80300045e+00],\n",
       "        [5.80000043e-01, 2.10800004e+00, 6.80000019e+00]]], dtype=float32)"
      ]
     },
     "execution_count": 9,
     "metadata": {},
     "output_type": "execute_result"
    }
   ],
   "source": [
    "traj.xyz"
   ]
  },
  {
   "cell_type": "markdown",
   "metadata": {},
   "source": [
    "This is a multi-dimensional array, but off the bat you can start seeing these 3-tuples for XYZ. \n",
    "\n",
    "This is a `numpy array`, though, so we can use some numpy functions"
   ]
  },
  {
   "cell_type": "code",
   "execution_count": 10,
   "metadata": {},
   "outputs": [
    {
     "data": {
      "text/plain": [
       "(1501, 18546, 3)"
      ]
     },
     "execution_count": 10,
     "metadata": {},
     "output_type": "execute_result"
    }
   ],
   "source": [
    "traj.xyz.shape"
   ]
  },
  {
   "cell_type": "markdown",
   "metadata": {},
   "source": [
    "1501 frames, 18546 atoms, 3 spatial coordinates.\n",
    "\n",
    "We can also snip out a frame to get all of the coordinates for all the atoms in that one frame"
   ]
  },
  {
   "cell_type": "code",
   "execution_count": 11,
   "metadata": {},
   "outputs": [
    {
     "data": {
      "text/plain": [
       "(18546, 3)"
      ]
     },
     "execution_count": 11,
     "metadata": {},
     "output_type": "execute_result"
    }
   ],
   "source": [
    "traj.xyz[0].shape"
   ]
  },
  {
   "cell_type": "markdown",
   "metadata": {},
   "source": [
    "Snip out an atom (or collection of atoms) - based on index - to get all frames and all the coordinates of that collection of atoms"
   ]
  },
  {
   "cell_type": "code",
   "execution_count": 12,
   "metadata": {},
   "outputs": [
    {
     "data": {
      "text/plain": [
       "(1501, 3, 3)"
      ]
     },
     "execution_count": 12,
     "metadata": {},
     "output_type": "execute_result"
    }
   ],
   "source": [
    "traj.xyz[:, [1,2,3],:].shape"
   ]
  },
  {
   "cell_type": "markdown",
   "metadata": {},
   "source": [
    "Snip out just one dimension to get all frames and all atoms and just one dimension"
   ]
  },
  {
   "cell_type": "code",
   "execution_count": 14,
   "metadata": {},
   "outputs": [
    {
     "data": {
      "text/plain": [
       "(1501, 18546)"
      ]
     },
     "execution_count": 14,
     "metadata": {},
     "output_type": "execute_result"
    }
   ],
   "source": [
    "traj.xyz[:,:,0].shape"
   ]
  },
  {
   "cell_type": "markdown",
   "metadata": {},
   "source": [
    "Since a trajectory is just a collection of frames, one after another, you can also snip out frames from a trajectory"
   ]
  },
  {
   "cell_type": "code",
   "execution_count": 15,
   "metadata": {},
   "outputs": [
    {
     "data": {
      "text/plain": [
       "<mdtraj.Trajectory with 1 frames, 18546 atoms, 2688 residues, and unitcells at 0x1257af908>"
      ]
     },
     "execution_count": 15,
     "metadata": {},
     "output_type": "execute_result"
    }
   ],
   "source": [
    "traj[0]"
   ]
  },
  {
   "cell_type": "markdown",
   "metadata": {},
   "source": [
    "This is still a `Trajectory` object, just 1 frame. XYZ coordinates are still accessible as earlier"
   ]
  },
  {
   "cell_type": "markdown",
   "metadata": {},
   "source": [
    "All simulations occur within a unitcell to define the boundaries of the simulation. "
   ]
  },
  {
   "cell_type": "code",
   "execution_count": 17,
   "metadata": {},
   "outputs": [
    {
     "data": {
      "text/plain": [
       "array([[[5.11195  , 0.       , 0.       ],\n",
       "        [0.       , 3.74324  , 0.       ],\n",
       "        [0.       , 0.       , 8.80772  ]],\n",
       "\n",
       "       [[5.116633 , 0.       , 0.       ],\n",
       "        [0.       , 3.7466693, 0.       ],\n",
       "        [0.       , 0.       , 8.806476 ]],\n",
       "\n",
       "       [[5.0943184, 0.       , 0.       ],\n",
       "        [0.       , 3.7303293, 0.       ],\n",
       "        [0.       , 0.       , 8.894873 ]],\n",
       "\n",
       "       ...,\n",
       "\n",
       "       [[5.3887806, 0.       , 0.       ],\n",
       "        [0.       , 3.9459503, 0.       ],\n",
       "        [0.       , 0.       , 8.189841 ]],\n",
       "\n",
       "       [[5.3347273, 0.       , 0.       ],\n",
       "        [0.       , 3.9063694, 0.       ],\n",
       "        [0.       , 0.       , 8.352207 ]],\n",
       "\n",
       "       [[5.3583217, 0.       , 0.       ],\n",
       "        [0.       , 3.9236465, 0.       ],\n",
       "        [0.       , 0.       , 8.363432 ]]], dtype=float32)"
      ]
     },
     "execution_count": 17,
     "metadata": {},
     "output_type": "execute_result"
    }
   ],
   "source": [
    "traj.unitcell_vectors"
   ]
  },
  {
   "cell_type": "code",
   "execution_count": 19,
   "metadata": {},
   "outputs": [
    {
     "data": {
      "text/plain": [
       "(1501, 3, 3)"
      ]
     },
     "execution_count": 19,
     "metadata": {},
     "output_type": "execute_result"
    }
   ],
   "source": [
    "traj.unitcell_vectors.shape"
   ]
  },
  {
   "cell_type": "markdown",
   "metadata": {},
   "source": [
    "For each frame, there is a 3x3 array to describe the simulation box vectors"
   ]
  },
  {
   "cell_type": "markdown",
   "metadata": {},
   "source": [
    "I won't go into how you should analyze a trajectory, but every molecular modeller should be familiar with what analysis routines exist in which packages, and which analysis routines you should design yourself"
   ]
  },
  {
   "cell_type": "markdown",
   "metadata": {},
   "source": [
    "## Comments\n",
    "There is a whole zoo of trajectory file formats that simulation engines produce - each analysis package can accommodate a subset of those file formats, each analysis package has different built-in analysis routines. Sometimes it's a mix-and-match game where you need to use package A to read a trajectory, and convert to package B representation because it has some particular analysis routine you need.\n",
    "\n",
    "You could use an analysis package to read in one file format but write in another file format, or use an analysis package to manipulate coordinates/toplogy. Because these packages are designed intuitively and very similar to other structures in the SciPy ecosystem, there is a lot of room for creativity\n",
    "\n",
    "Recent developments in the SciPy ecosystem look at out-of-memory or GPU representations of `numpy array` or `pandas DataFrame`, and this is a growing issue in our field - sometimes loading an entire Trajectory into memory is just not possible, so *chunking* is necessary to break the whole Trajectory into memory-manageable data"
   ]
  },
  {
   "cell_type": "markdown",
   "metadata": {},
   "source": [
    "## Summary\n",
    "There are a variety of analysis packages out there, but they all start out the same way: read a simulation trajectory file and create an in-memory data representation that contains trajectory (coordinates) and topology (atoms, bonds) information.\n",
    "\n"
   ]
  }
 ],
 "metadata": {
  "kernelspec": {
   "display_name": "Python 3",
   "language": "python",
   "name": "python3"
  },
  "language_info": {
   "codemirror_mode": {
    "name": "ipython",
    "version": 3
   },
   "file_extension": ".py",
   "mimetype": "text/x-python",
   "name": "python",
   "nbconvert_exporter": "python",
   "pygments_lexer": "ipython3",
   "version": "3.6.7"
  }
 },
 "nbformat": 4,
 "nbformat_minor": 2
}
