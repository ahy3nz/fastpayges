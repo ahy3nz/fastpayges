{
 "cells": [
  {
   "cell_type": "markdown",
   "metadata": {},
   "source": [
    "Parsing [Oscar Robertson's statmuse page](https://www.statmuse.com/nba/player/oscar-robertson-3116/game-log)"
   ]
  },
  {
   "cell_type": "code",
   "execution_count": 42,
   "metadata": {},
   "outputs": [],
   "source": [
    "import re\n",
    "import numpy as np"
   ]
  },
  {
   "cell_type": "code",
   "execution_count": 151,
   "metadata": {},
   "outputs": [],
   "source": [
    "statmuse_header = 'DATE\\tTM\\tOPP\\tSCORE\\tMIN\\tFGM\\tFGA\\tFG%\\t3PM\\t3PA\\t3P%\\tFTM\\tFTA\\tFT%\\tOREB\\tDREB\\tREB\\tAST\\tSTL\\tBLK\\tTOV\\tPF\\tPTS\\t+/-\\n'"
   ]
  },
  {
   "cell_type": "code",
   "execution_count": 152,
   "metadata": {},
   "outputs": [],
   "source": [
    "final_lines = []\n",
    "files = ['1961.txt', '1962.txt', '1963.txt', '1964.txt', '1965.txt', '1966.txt', '1967.txt',\n",
    "        '1968.txt', '1969.txt', '1970.txt', '1971.txt', '1972.txt', '1973.txt', '1974.txt']\n",
    "skip_next = False\n",
    "for filename in files:\n",
    "    with open(filename, 'r') as f:\n",
    "        statmusetext = f.readlines()\n",
    "    for line in statmusetext:\n",
    "        if skip_next:\n",
    "            skip_next = False\n",
    "            continue\n",
    "        if line == statmuse_header:\n",
    "            continue\n",
    "        elif 'Average' in line:\n",
    "            skip_next = True\n",
    "        elif len(line.split('\\t')) == 20:\n",
    "            final_lines.append(line)\n",
    "        elif len(line.split('\\t')) == 19:\n",
    "            line = '\\t' + line\n",
    "            final_lines.append(line)"
   ]
  },
  {
   "cell_type": "code",
   "execution_count": 153,
   "metadata": {},
   "outputs": [],
   "source": [
    "header = 'MIN\\tFGM\\tFGA\\tFG%\\t3PM\\t3PA\\t3P%\\tFTM\\tFTA\\tFT%\\tOREB\\tDREB\\tREB\\tAST\\tSTL\\tBLK\\tTOV\\tPF\\tPTS\\t+/-\\n'\n",
    "\n",
    "final_lines.insert(0, header)"
   ]
  },
  {
   "cell_type": "code",
   "execution_count": 154,
   "metadata": {},
   "outputs": [],
   "source": [
    "import io\n",
    "f = io.StringIO(\"\".join(final_lines))"
   ]
  },
  {
   "cell_type": "code",
   "execution_count": 155,
   "metadata": {},
   "outputs": [
    {
     "data": {
      "text/plain": [
       "1041"
      ]
     },
     "execution_count": 155,
     "metadata": {},
     "output_type": "execute_result"
    }
   ],
   "source": [
    "len(final_lines)"
   ]
  },
  {
   "cell_type": "code",
   "execution_count": 156,
   "metadata": {},
   "outputs": [
    {
     "data": {
      "text/html": [
       "<div>\n",
       "<style scoped>\n",
       "    .dataframe tbody tr th:only-of-type {\n",
       "        vertical-align: middle;\n",
       "    }\n",
       "\n",
       "    .dataframe tbody tr th {\n",
       "        vertical-align: top;\n",
       "    }\n",
       "\n",
       "    .dataframe thead th {\n",
       "        text-align: right;\n",
       "    }\n",
       "</style>\n",
       "<table border=\"1\" class=\"dataframe\">\n",
       "  <thead>\n",
       "    <tr style=\"text-align: right;\">\n",
       "      <th></th>\n",
       "      <th>MIN</th>\n",
       "      <th>FGM</th>\n",
       "      <th>FGA</th>\n",
       "      <th>FG%</th>\n",
       "      <th>3PM</th>\n",
       "      <th>3PA</th>\n",
       "      <th>3P%</th>\n",
       "      <th>FTM</th>\n",
       "      <th>FTA</th>\n",
       "      <th>FT%</th>\n",
       "      <th>OREB</th>\n",
       "      <th>DREB</th>\n",
       "      <th>REB</th>\n",
       "      <th>AST</th>\n",
       "      <th>STL</th>\n",
       "      <th>BLK</th>\n",
       "      <th>TOV</th>\n",
       "      <th>PF</th>\n",
       "      <th>PTS</th>\n",
       "      <th>+/-</th>\n",
       "    </tr>\n",
       "  </thead>\n",
       "  <tbody>\n",
       "    <tr>\n",
       "      <th>0</th>\n",
       "      <td>NaN</td>\n",
       "      <td>13</td>\n",
       "      <td>23.0</td>\n",
       "      <td>56.5</td>\n",
       "      <td>NaN</td>\n",
       "      <td>NaN</td>\n",
       "      <td>NaN</td>\n",
       "      <td>12</td>\n",
       "      <td>14</td>\n",
       "      <td>85.7</td>\n",
       "      <td>NaN</td>\n",
       "      <td>NaN</td>\n",
       "      <td>10.0</td>\n",
       "      <td>8.0</td>\n",
       "      <td>NaN</td>\n",
       "      <td>NaN</td>\n",
       "      <td>NaN</td>\n",
       "      <td>3.0</td>\n",
       "      <td>38</td>\n",
       "      <td>NaN</td>\n",
       "    </tr>\n",
       "    <tr>\n",
       "      <th>1</th>\n",
       "      <td>48.0</td>\n",
       "      <td>7</td>\n",
       "      <td>19.0</td>\n",
       "      <td>36.8</td>\n",
       "      <td>NaN</td>\n",
       "      <td>NaN</td>\n",
       "      <td>NaN</td>\n",
       "      <td>8</td>\n",
       "      <td>10</td>\n",
       "      <td>80.0</td>\n",
       "      <td>NaN</td>\n",
       "      <td>NaN</td>\n",
       "      <td>9.0</td>\n",
       "      <td>13.0</td>\n",
       "      <td>NaN</td>\n",
       "      <td>NaN</td>\n",
       "      <td>NaN</td>\n",
       "      <td>6.0</td>\n",
       "      <td>22</td>\n",
       "      <td>NaN</td>\n",
       "    </tr>\n",
       "    <tr>\n",
       "      <th>2</th>\n",
       "      <td>NaN</td>\n",
       "      <td>12</td>\n",
       "      <td>31.0</td>\n",
       "      <td>38.7</td>\n",
       "      <td>NaN</td>\n",
       "      <td>NaN</td>\n",
       "      <td>NaN</td>\n",
       "      <td>8</td>\n",
       "      <td>10</td>\n",
       "      <td>80.0</td>\n",
       "      <td>NaN</td>\n",
       "      <td>NaN</td>\n",
       "      <td>18.0</td>\n",
       "      <td>9.0</td>\n",
       "      <td>NaN</td>\n",
       "      <td>NaN</td>\n",
       "      <td>NaN</td>\n",
       "      <td>4.0</td>\n",
       "      <td>32</td>\n",
       "      <td>NaN</td>\n",
       "    </tr>\n",
       "    <tr>\n",
       "      <th>3</th>\n",
       "      <td>42.0</td>\n",
       "      <td>9</td>\n",
       "      <td>16.0</td>\n",
       "      <td>56.3</td>\n",
       "      <td>NaN</td>\n",
       "      <td>NaN</td>\n",
       "      <td>NaN</td>\n",
       "      <td>9</td>\n",
       "      <td>10</td>\n",
       "      <td>90.0</td>\n",
       "      <td>NaN</td>\n",
       "      <td>NaN</td>\n",
       "      <td>14.0</td>\n",
       "      <td>10.0</td>\n",
       "      <td>NaN</td>\n",
       "      <td>NaN</td>\n",
       "      <td>NaN</td>\n",
       "      <td>1.0</td>\n",
       "      <td>27</td>\n",
       "      <td>NaN</td>\n",
       "    </tr>\n",
       "    <tr>\n",
       "      <th>4</th>\n",
       "      <td>47.0</td>\n",
       "      <td>11</td>\n",
       "      <td>27.0</td>\n",
       "      <td>40.7</td>\n",
       "      <td>NaN</td>\n",
       "      <td>NaN</td>\n",
       "      <td>NaN</td>\n",
       "      <td>15</td>\n",
       "      <td>17</td>\n",
       "      <td>88.2</td>\n",
       "      <td>NaN</td>\n",
       "      <td>NaN</td>\n",
       "      <td>9.0</td>\n",
       "      <td>18.0</td>\n",
       "      <td>NaN</td>\n",
       "      <td>NaN</td>\n",
       "      <td>NaN</td>\n",
       "      <td>3.0</td>\n",
       "      <td>37</td>\n",
       "      <td>NaN</td>\n",
       "    </tr>\n",
       "  </tbody>\n",
       "</table>\n",
       "</div>"
      ],
      "text/plain": [
       "    MIN  FGM   FGA   FG%  3PM  3PA  3P%  FTM  FTA   FT%  OREB  DREB   REB  \\\n",
       "0   NaN   13  23.0  56.5  NaN  NaN  NaN   12   14  85.7   NaN   NaN  10.0   \n",
       "1  48.0    7  19.0  36.8  NaN  NaN  NaN    8   10  80.0   NaN   NaN   9.0   \n",
       "2   NaN   12  31.0  38.7  NaN  NaN  NaN    8   10  80.0   NaN   NaN  18.0   \n",
       "3  42.0    9  16.0  56.3  NaN  NaN  NaN    9   10  90.0   NaN   NaN  14.0   \n",
       "4  47.0   11  27.0  40.7  NaN  NaN  NaN   15   17  88.2   NaN   NaN   9.0   \n",
       "\n",
       "    AST  STL  BLK  TOV   PF  PTS  +/-  \n",
       "0   8.0  NaN  NaN  NaN  3.0   38  NaN  \n",
       "1  13.0  NaN  NaN  NaN  6.0   22  NaN  \n",
       "2   9.0  NaN  NaN  NaN  4.0   32  NaN  \n",
       "3  10.0  NaN  NaN  NaN  1.0   27  NaN  \n",
       "4  18.0  NaN  NaN  NaN  3.0   37  NaN  "
      ]
     },
     "execution_count": 156,
     "metadata": {},
     "output_type": "execute_result"
    }
   ],
   "source": [
    "import pandas as pd\n",
    "df = pd.read_csv(f, delimiter='\\t')\n",
    "df.head()"
   ]
  },
  {
   "cell_type": "code",
   "execution_count": 157,
   "metadata": {},
   "outputs": [
    {
     "data": {
      "text/plain": [
       "(181, 20)"
      ]
     },
     "execution_count": 157,
     "metadata": {},
     "output_type": "execute_result"
    }
   ],
   "source": [
    "df.query(\"PTS >= 10 & REB >= 10 & AST >= 10\").shape"
   ]
  },
  {
   "cell_type": "code",
   "execution_count": 159,
   "metadata": {},
   "outputs": [],
   "source": [
    "df.to_csv(\"robertson_regularseason.csv\", index=False)"
   ]
  }
 ],
 "metadata": {
  "kernelspec": {
   "display_name": "Python 3",
   "language": "python",
   "name": "python3"
  },
  "language_info": {
   "codemirror_mode": {
    "name": "ipython",
    "version": 3
   },
   "file_extension": ".py",
   "mimetype": "text/x-python",
   "name": "python",
   "nbconvert_exporter": "python",
   "pygments_lexer": "ipython3",
   "version": "3.7.9"
  }
 },
 "nbformat": 4,
 "nbformat_minor": 4
}
